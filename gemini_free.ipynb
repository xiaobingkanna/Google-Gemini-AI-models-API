{
  "cells": [
    {
      "cell_type": "code",
      "execution_count": null,
      "metadata": {
        "id": "rEEFge3HdfeD"
      },
      "outputs": [],
      "source": [
        "#初始化模型\n",
        "import google.generativeai as genai\n",
        "genai.configure(api_key=\"Paste the API you applied for\")\n",
        "\n",
        "# 定义模型的配置参数\n",
        "generation_config = {\n",
        "    \"temperature\": 0.9,\n",
        "    \"top_p\": 0.9,\n",
        "    \"top_k\": 10,\n",
        "    \"max_output_tokens\": 2048,\n",
        "}\n",
        "#设置生成模型的安全性设置\n",
        "safety_settings = [\n",
        "    {\"category\": \"HARM_CATEGORY_HARASSMENT\", \"threshold\": \"BLOCK_NONE\"},\n",
        "    {\"category\": \"HARM_CATEGORY_HATE_SPEECH\", \"threshold\": \"BLOCK_NONE\"},\n",
        "    {\"category\": \"HARM_CATEGORY_SEXUALLY_EXPLICIT\", \"threshold\": \"BLOCK_NONE\"},\n",
        "    {\"category\": \"HARM_CATEGORY_DANGEROUS_CONTENT\", \"threshold\": \"BLOCK_NONE\"}\n",
        "]\n",
        "#选择模型\n",
        "model = genai.GenerativeModel(model_name=\"gemini-pro\", generation_config=generation_config, safety_settings=safety_settings)"
      ]
    },
    {
      "cell_type": "code",
      "execution_count": null,
      "metadata": {
        "id": "ov7tl0MLd3Yz"
      },
      "outputs": [],
      "source": [
        "#开始对话\n",
        "# 用于存储对话历史记录的列表\n",
        "dialogue_history = []\n",
        "\n",
        "while True:\n",
        "    user_input = input(\"你: \")\n",
        "    # 将历史消息和用户输入组合成 prompt\n",
        "    prompt_parts = dialogue_history + [user_input]\n",
        "\n",
        "    response = model.generate_content(prompt_parts)\n",
        "    generated_text = response.text\n",
        "\n",
        "    # 格式化生成的文本\n",
        "    formatted_text = \"\\n\".join([line.strip() for line in generated_text.split(\"\\n\") if line.strip()])\n",
        "\n",
        "    # 打印 AI 生成的回答\n",
        "    print(f\"AI: {formatted_text}\")\n",
        "    print(\"\\n\")\n",
        "\n",
        "    # 将用户输入和模型回答添加到对话历史记录中\n",
        "    dialogue_history.append(f\"你: {user_input}\")\n",
        "    dialogue_history.append(f\"AI: {formatted_text}\")"
      ]
    }
  ],
  "metadata": {
    "colab": {
      "provenance": []
    },
    "kernelspec": {
      "display_name": "Python 3",
      "name": "python3"
    },
    "language_info": {
      "name": "python"
    }
  },
  "nbformat": 4,
  "nbformat_minor": 0
}
